{
  "nbformat": 4,
  "nbformat_minor": 0,
  "metadata": {
    "colab": {
      "name": "Custom_DNN.ipynb",
      "provenance": [],
      "authorship_tag": "ABX9TyPQ5eEs3AvQqoxyhytx+yCb",
      "include_colab_link": true
    },
    "kernelspec": {
      "name": "python3",
      "display_name": "Python 3"
    },
    "language_info": {
      "name": "python"
    }
  },
  "cells": [
    {
      "cell_type": "markdown",
      "metadata": {
        "id": "view-in-github",
        "colab_type": "text"
      },
      "source": [
        "<a href=\"https://colab.research.google.com/github/AHamamd150/Zewail-city/blob/main/Custom_DNN.ipynb\" target=\"_parent\"><img src=\"https://colab.research.google.com/assets/colab-badge.svg\" alt=\"Open In Colab\"/></a>"
      ]
    },
    {
      "cell_type": "code",
      "execution_count": 18,
      "metadata": {
        "id": "8UOlu2ouxpAr"
      },
      "outputs": [],
      "source": [
        "from tensorflow import keras\n",
        "from tensorflow.keras import layers \n",
        "import numpy as np\n",
        "import matplotlib.pyplot as plt\n",
        "from tensorflow.keras import Sequential \n",
        "from tensorflow.keras.datasets import mnist\n",
        "import tensorflow as tf\n",
        "from tqdm import tqdm"
      ]
    },
    {
      "cell_type": "code",
      "source": [
        "(x_train,y_train),(x_test,y_test) = mnist.load_data()\n",
        "x_train=x_train/255\n",
        "x_test = x_test/255\n",
        "x_train=x_train\n",
        "x_test=x_test\n"
      ],
      "metadata": {
        "id": "30uEgaBLxqP7",
        "outputId": "3992a526-b8e6-4147-b11f-a2b3f25cb857",
        "colab": {
          "base_uri": "https://localhost:8080/"
        }
      },
      "execution_count": 2,
      "outputs": [
        {
          "output_type": "stream",
          "name": "stdout",
          "text": [
            "Downloading data from https://storage.googleapis.com/tensorflow/tf-keras-datasets/mnist.npz\n",
            "11490434/11490434 [==============================] - 0s 0us/step\n"
          ]
        }
      ]
    },
    {
      "cell_type": "markdown",
      "source": [
        "# Customize our own Dense Layer"
      ],
      "metadata": {
        "id": "GKhegozlAX-Y"
      }
    },
    {
      "cell_type": "code",
      "source": [
        "\n",
        "class MyDense(tf.keras.layers.Layer):\n",
        "\n",
        "  def __init__(self, units):\n",
        "      super(MyDense, self).__init__()\n",
        "      self.units = units\n",
        "   #define the weights and bias for given units   \n",
        "  def build(self, input_shape):\n",
        "      self.w = self.add_weight(shape=(input_shape[-1], self.units),\n",
        "                               initializer='zeros',\n",
        "                               trainable=True)\n",
        "      self.b = self.add_weight(shape=(self.units,),\n",
        "                               initializer='zeros',\n",
        "                               trainable=True)\n",
        "   #call function to excute with predicted y = x W^T + B\\\n",
        "   # we can still change this formula to ploynimial for example \n",
        "  def call(self, inputs):\n",
        "      y =  tf.matmul(inputs, self.w) + self.b\n",
        "      return y\n",
        "\n",
        " # define our relu function with some threshold   \n",
        "class MyRule(tf.keras.layers.Layer):\n",
        "  def __init__(self):\n",
        "    super(MyRule,self).__init__()\n",
        "\n",
        "  def call(self,x):\n",
        "    return tf.math.maximum(-0.1,x)\n",
        "# define the softmax function\n",
        "class Mysoftmax(tf.keras.layers.Layer):\n",
        "  def __init__(self):\n",
        "    super(Mysoftmax,self).__init__()\n",
        "\n",
        "  def call(self,x):\n",
        "    return tf.math.exp(x)/tf.math.reduce_sum(tf.math.exp(x)) \n"
      ],
      "metadata": {
        "id": "7phIHkeQyBA0"
      },
      "execution_count": 3,
      "outputs": []
    },
    {
      "cell_type": "markdown",
      "source": [
        "# Our custom model "
      ],
      "metadata": {
        "id": "IvNEfqdvAzLD"
      }
    },
    {
      "cell_type": "code",
      "source": [
        "#Create a class model \n",
        "class Mymodel(keras.Model):\n",
        "    def __init__(self,outputs=10):\n",
        "         super(Mymodel,self).__init__()\n",
        "         self.outputs=outputs\n",
        "         self.dense1 = tf.keras.layers.Flatten(input_shape=(28,28))\n",
        "         self.dense3= MyDense(10)\n",
        "         self.relu = MyRule()\n",
        "         self.softmax=Mysoftmax()\n",
        "\n",
        "    def call(self,inputs):\n",
        "        x = self.dense1(inputs)\n",
        "        x = self.relu(x)\n",
        "        x = self.dense3(x)\n",
        "        x = self.softmax(x)\n",
        "\n",
        "        return x\n",
        "\n",
        "model = Mymodel()"
      ],
      "metadata": {
        "id": "wLEIf7tEyJvE"
      },
      "execution_count": 5,
      "outputs": []
    },
    {
      "cell_type": "code",
      "source": [
        "model.compile(optimizer= keras.optimizers.Adam(),loss=keras.losses.SparseCategoricalCrossentropy(),metrics=['accuracy'])"
      ],
      "metadata": {
        "id": "SS4RBnvyC6DF"
      },
      "execution_count": null,
      "outputs": []
    },
    {
      "cell_type": "code",
      "source": [
        "model.fit(x_train,y_train,epochs=20,batch_size=256,validation_split=0.2)"
      ],
      "metadata": {
        "colab": {
          "base_uri": "https://localhost:8080/"
        },
        "id": "Nxa0yxZbEm29",
        "outputId": "782f2508-16d1-49a5-b872-0cbedc960457"
      },
      "execution_count": null,
      "outputs": [
        {
          "output_type": "stream",
          "name": "stdout",
          "text": [
            "Epoch 1/20\n",
            "188/188 [==============================] - 1s 5ms/step - loss: 0.9312 - accuracy: 0.8186 - val_loss: 0.5044 - val_accuracy: 0.8808\n",
            "Epoch 2/20\n",
            "188/188 [==============================] - 1s 4ms/step - loss: 0.4648 - accuracy: 0.8836 - val_loss: 0.3867 - val_accuracy: 0.9021\n",
            "Epoch 3/20\n",
            "188/188 [==============================] - 1s 4ms/step - loss: 0.3867 - accuracy: 0.8988 - val_loss: 0.3434 - val_accuracy: 0.9102\n",
            "Epoch 4/20\n",
            "188/188 [==============================] - 1s 5ms/step - loss: 0.3505 - accuracy: 0.9053 - val_loss: 0.3205 - val_accuracy: 0.9130\n",
            "Epoch 5/20\n",
            "188/188 [==============================] - 1s 4ms/step - loss: 0.3287 - accuracy: 0.9100 - val_loss: 0.3067 - val_accuracy: 0.9181\n",
            "Epoch 6/20\n",
            "188/188 [==============================] - 1s 4ms/step - loss: 0.3148 - accuracy: 0.9137 - val_loss: 0.2962 - val_accuracy: 0.9199\n",
            "Epoch 7/20\n",
            "188/188 [==============================] - 1s 4ms/step - loss: 0.3041 - accuracy: 0.9165 - val_loss: 0.2910 - val_accuracy: 0.9193\n",
            "Epoch 8/20\n",
            "188/188 [==============================] - 1s 4ms/step - loss: 0.2960 - accuracy: 0.9183 - val_loss: 0.2841 - val_accuracy: 0.9212\n",
            "Epoch 9/20\n",
            "188/188 [==============================] - 1s 4ms/step - loss: 0.2892 - accuracy: 0.9198 - val_loss: 0.2806 - val_accuracy: 0.9223\n",
            "Epoch 10/20\n",
            "188/188 [==============================] - 1s 4ms/step - loss: 0.2837 - accuracy: 0.9210 - val_loss: 0.2773 - val_accuracy: 0.9232\n",
            "Epoch 11/20\n",
            "188/188 [==============================] - 1s 4ms/step - loss: 0.2792 - accuracy: 0.9217 - val_loss: 0.2727 - val_accuracy: 0.9264\n",
            "Epoch 12/20\n",
            "188/188 [==============================] - 1s 4ms/step - loss: 0.2753 - accuracy: 0.9229 - val_loss: 0.2693 - val_accuracy: 0.9260\n",
            "Epoch 13/20\n",
            "188/188 [==============================] - 1s 5ms/step - loss: 0.2713 - accuracy: 0.9247 - val_loss: 0.2680 - val_accuracy: 0.9264\n",
            "Epoch 14/20\n",
            "188/188 [==============================] - 1s 4ms/step - loss: 0.2681 - accuracy: 0.9247 - val_loss: 0.2654 - val_accuracy: 0.9273\n",
            "Epoch 15/20\n",
            "188/188 [==============================] - 1s 4ms/step - loss: 0.2653 - accuracy: 0.9257 - val_loss: 0.2651 - val_accuracy: 0.9267\n",
            "Epoch 16/20\n",
            "188/188 [==============================] - 1s 4ms/step - loss: 0.2632 - accuracy: 0.9257 - val_loss: 0.2622 - val_accuracy: 0.9285\n",
            "Epoch 17/20\n",
            "188/188 [==============================] - 1s 4ms/step - loss: 0.2602 - accuracy: 0.9273 - val_loss: 0.2625 - val_accuracy: 0.9281\n",
            "Epoch 18/20\n",
            "188/188 [==============================] - 1s 4ms/step - loss: 0.2587 - accuracy: 0.9270 - val_loss: 0.2602 - val_accuracy: 0.9285\n",
            "Epoch 19/20\n",
            "188/188 [==============================] - 1s 5ms/step - loss: 0.2563 - accuracy: 0.9280 - val_loss: 0.2588 - val_accuracy: 0.9294\n",
            "Epoch 20/20\n",
            "188/188 [==============================] - 1s 4ms/step - loss: 0.2546 - accuracy: 0.9287 - val_loss: 0.2585 - val_accuracy: 0.9294\n"
          ]
        },
        {
          "output_type": "execute_result",
          "data": {
            "text/plain": [
              "<keras.callbacks.History at 0x7fd3d03a4f10>"
            ]
          },
          "metadata": {},
          "execution_count": 102
        }
      ]
    },
    {
      "cell_type": "code",
      "source": [
        "model.evaluate(x_test,y_test,verbose=0)[-1]"
      ],
      "metadata": {
        "colab": {
          "base_uri": "https://localhost:8080/"
        },
        "id": "crKjQx3BExRE",
        "outputId": "e3c67e32-84ad-47b9-d7e8-d7801f090113"
      },
      "execution_count": null,
      "outputs": [
        {
          "output_type": "execute_result",
          "data": {
            "text/plain": [
              "0.9271000027656555"
            ]
          },
          "metadata": {},
          "execution_count": 90
        }
      ]
    },
    {
      "cell_type": "code",
      "source": [
        "n_epochs = 20\n",
        "batch_size = 256\n",
        "n_steps = len(x_train) // batch_size\n"
      ],
      "metadata": {
        "id": "fo8N3VE0_7Zv"
      },
      "execution_count": 12,
      "outputs": []
    },
    {
      "cell_type": "code",
      "source": [
        "loss_object = tf.keras.losses.SparseCategoricalCrossentropy()\n",
        "optimizer = tf.keras.optimizers.SGD(learning_rate=0.01)"
      ],
      "metadata": {
        "id": "96tYqaE-AHxy"
      },
      "execution_count": 6,
      "outputs": []
    },
    {
      "cell_type": "code",
      "source": [
        "def loss(model, x, y, training):\n",
        "  y_ = model(x, training=training)\n",
        "  return loss_object(y, y_)\n"
      ],
      "metadata": {
        "id": "s2rhbv-CSY2_"
      },
      "execution_count": 7,
      "outputs": []
    },
    {
      "cell_type": "code",
      "source": [
        "def grad(model,x1,y1):\n",
        "  with tf.GradientTape() as g:\n",
        "    losses = loss(model,x1,y1, training=True)\n",
        "  return losses, g.gradient(losses, model.trainable_variables)"
      ],
      "metadata": {
        "id": "wSqDA10TSbY8"
      },
      "execution_count": 8,
      "outputs": []
    },
    {
      "cell_type": "markdown",
      "source": [
        "# Train the model "
      ],
      "metadata": {
        "id": "gzim2T2ofCq3"
      }
    },
    {
      "cell_type": "code",
      "source": [
        "Loss, Accuracy=[],[]\n",
        "for epoch in range(n_epochs):\n",
        "  epoch_loss_avg = tf.keras.metrics.Mean()\n",
        "  epoch_accuracy = tf.keras.metrics.SparseCategoricalAccuracy()\n",
        "  for q in range(batch_size):\n",
        "    random_index = np.random.randint(batch_size)\n",
        "    xi = x_train[random_index:random_index+1]\n",
        "    yi = y_train[random_index:random_index+1]\n",
        "    loss_value, grads = grad(model, xi, yi)\n",
        "    optimizer.apply_gradients(zip(grads, model.trainable_variables))\n",
        "    epoch_loss_avg.update_state(loss_value)\n",
        "    epoch_accuracy.update_state(yi, model(xi, training=True))\n",
        "  Loss.append(epoch_loss_avg.result())\n",
        "  Accuracy.append(epoch_accuracy.result())\n",
        "  tf.print('Epoch Number= {}   Accuracy= {}   Loss= {} '.format(epoch,epoch_accuracy.result(),epoch_loss_avg.result()))  \n",
        " \n"
      ],
      "metadata": {
        "id": "Ylwf3RrJTDi8",
        "outputId": "4d870755-d273-4994-cc4e-ce63919c59d1",
        "colab": {
          "base_uri": "https://localhost:8080/"
        }
      },
      "execution_count": 38,
      "outputs": [
        {
          "output_type": "stream",
          "name": "stdout",
          "text": [
            "Epoch Number= 0   Accuracy= 1.0   Loss= 0.01436943281441927 \n",
            "Epoch Number= 1   Accuracy= 1.0   Loss= 0.011737814173102379 \n",
            "Epoch Number= 2   Accuracy= 1.0   Loss= 0.013170748017728329 \n",
            "Epoch Number= 3   Accuracy= 1.0   Loss= 0.010467846877872944 \n",
            "Epoch Number= 4   Accuracy= 1.0   Loss= 0.012771555222570896 \n",
            "Epoch Number= 5   Accuracy= 1.0   Loss= 0.011151863262057304 \n",
            "Epoch Number= 6   Accuracy= 1.0   Loss= 0.013255862519145012 \n",
            "Epoch Number= 7   Accuracy= 1.0   Loss= 0.01130200456827879 \n",
            "Epoch Number= 8   Accuracy= 1.0   Loss= 0.011358722113072872 \n",
            "Epoch Number= 9   Accuracy= 1.0   Loss= 0.012419432401657104 \n",
            "Epoch Number= 10   Accuracy= 1.0   Loss= 0.011082415468990803 \n",
            "Epoch Number= 11   Accuracy= 1.0   Loss= 0.013491456396877766 \n",
            "Epoch Number= 12   Accuracy= 1.0   Loss= 0.011804156936705112 \n",
            "Epoch Number= 13   Accuracy= 1.0   Loss= 0.010788763873279095 \n",
            "Epoch Number= 14   Accuracy= 1.0   Loss= 0.011090685613453388 \n",
            "Epoch Number= 15   Accuracy= 1.0   Loss= 0.010771478526294231 \n",
            "Epoch Number= 16   Accuracy= 1.0   Loss= 0.009426435455679893 \n",
            "Epoch Number= 17   Accuracy= 1.0   Loss= 0.012457652017474174 \n",
            "Epoch Number= 18   Accuracy= 1.0   Loss= 0.00925102736800909 \n",
            "Epoch Number= 19   Accuracy= 1.0   Loss= 0.011769705452024937 \n"
          ]
        }
      ]
    },
    {
      "cell_type": "code",
      "source": [
        "fig, axes = plt.subplots(2, sharex=True, figsize=(12, 8))\n",
        "fig.suptitle('Training Metrics')\n",
        "\n",
        "axes[0].set_ylabel(\"Loss\", fontsize=14)\n",
        "axes[0].plot(Loss)\n",
        "\n",
        "axes[1].set_ylabel(\"Accuracy\", fontsize=14)\n",
        "axes[1].set_xlabel(\"Epoch\", fontsize=14)\n",
        "axes[1].plot(Accuracy)\n",
        "plt.show()\n"
      ],
      "metadata": {
        "id": "yYQ_yjNSfE3_",
        "outputId": "9396ee79-9063-4e61-b73d-1995aa2c9bd8",
        "colab": {
          "base_uri": "https://localhost:8080/",
          "height": 558
        }
      },
      "execution_count": 40,
      "outputs": [
        {
          "output_type": "display_data",
          "data": {
            "text/plain": [
              "<Figure size 864x576 with 2 Axes>"
            ],
            "image/png": "[encoded data removed]"
          },
          "metadata": {
            "needs_background": "light"
          }
        }
      ]
    },
    {
      "cell_type": "code",
      "source": [],
      "metadata": {
        "id": "epn50y8ZWzDb"
      },
      "execution_count": null,
      "outputs": []
    }
  ]
}